{
 "cells": [
  {
   "cell_type": "code",
   "execution_count": 29,
   "metadata": {},
   "outputs": [],
   "source": [
    "import numpy as np\n",
    "import pandas as pd\n",
    "from sklearn.model_selection import train_test_split\n",
    "from sklearn.preprocessing import StandardScaler\n",
    "from sklearn.preprocessing import OneHotEncoder\n",
    "import sklearn.metrics\n",
    "import autosklearn.regression\n",
    "import matplotlib.pyplot as plt\n",
    "import pickle"
   ]
  },
  {
   "attachments": {},
   "cell_type": "markdown",
   "metadata": {},
   "source": [
    "# Auto sklearn"
   ]
  },
  {
   "cell_type": "code",
   "execution_count": 42,
   "metadata": {},
   "outputs": [
    {
     "name": "stdout",
     "output_type": "stream",
     "text": [
      "[WARNING] [2023-03-16 12:12:51,982:Client-AutoML(1):7de2c540-c3eb-11ed-af40-aae9fe84c640] Time limit for a single run is higher than total time limit. Capping the limit for a single run to the total time given to SMAC (59.619365)\n",
      "[WARNING] [2023-03-16 12:12:51,982:Client-AutoML(1):7de2c540-c3eb-11ed-af40-aae9fe84c640] Capping the per_run_time_limit to 29.0 to have time for a least 2 models in each process.\n",
      "          rank  ensemble_weight               type      cost  duration\n",
      "model_id                                                              \n",
      "25           1             0.40  gradient_boosting  0.607743  1.379264\n",
      "24           2             0.02      liblinear_svr  0.656770  0.976027\n",
      "13           3             0.30  gradient_boosting  0.685369  4.282578\n",
      "38           4             0.02  gradient_boosting  0.811911  2.479671\n",
      "12           5             0.26      liblinear_svr  0.944422  1.155691\n",
      "{12: {'model_id': 12, 'rank': 1, 'cost': 0.9444215925368032, 'ensemble_weight': 0.26, 'data_preprocessor': <autosklearn.pipeline.components.data_preprocessing.DataPreprocessorChoice object at 0x13517ab50>, 'feature_preprocessor': <autosklearn.pipeline.components.feature_preprocessing.FeaturePreprocessorChoice object at 0x135222650>, 'regressor': <autosklearn.pipeline.components.regression.RegressorChoice object at 0x135221290>, 'sklearn_regressor': LinearSVR(C=0.036388789196735646, dual=False, epsilon=0.0012739627397164333,\n",
      "          loss='squared_epsilon_insensitive', random_state=1,\n",
      "          tol=0.020180468804448126)}, 13: {'model_id': 13, 'rank': 2, 'cost': 0.6853687181549932, 'ensemble_weight': 0.3, 'data_preprocessor': <autosklearn.pipeline.components.data_preprocessing.DataPreprocessorChoice object at 0x135167e50>, 'feature_preprocessor': <autosklearn.pipeline.components.feature_preprocessing.FeaturePreprocessorChoice object at 0x134d4cf10>, 'regressor': <autosklearn.pipeline.components.regression.RegressorChoice object at 0x134d4c310>, 'sklearn_regressor': HistGradientBoostingRegressor(l2_regularization=0.0018018055158809108,\n",
      "                              learning_rate=0.05048450688348591, max_iter=512,\n",
      "                              max_leaf_nodes=3, min_samples_leaf=1,\n",
      "                              n_iter_no_change=19, random_state=1,\n",
      "                              validation_fraction=0.19819612428903174,\n",
      "                              warm_start=True)}, 24: {'model_id': 24, 'rank': 3, 'cost': 0.6567702075382323, 'ensemble_weight': 0.02, 'data_preprocessor': <autosklearn.pipeline.components.data_preprocessing.DataPreprocessorChoice object at 0x135117cd0>, 'feature_preprocessor': <autosklearn.pipeline.components.feature_preprocessing.FeaturePreprocessorChoice object at 0x134d2c810>, 'regressor': <autosklearn.pipeline.components.regression.RegressorChoice object at 0x135ea4050>, 'sklearn_regressor': LinearSVR(C=0.1637099972824213, dual=False, epsilon=0.5342957861386396,\n",
      "          loss='squared_epsilon_insensitive', random_state=1,\n",
      "          tol=0.00011557548242116838)}, 25: {'model_id': 25, 'rank': 4, 'cost': 0.6077425230094907, 'ensemble_weight': 0.4, 'data_preprocessor': <autosklearn.pipeline.components.data_preprocessing.DataPreprocessorChoice object at 0x135937a10>, 'feature_preprocessor': <autosklearn.pipeline.components.feature_preprocessing.FeaturePreprocessorChoice object at 0x134eab510>, 'regressor': <autosklearn.pipeline.components.regression.RegressorChoice object at 0x134ba5c10>, 'sklearn_regressor': HistGradientBoostingRegressor(l2_regularization=4.957506578736309e-07,\n",
      "                              learning_rate=0.05200721900508807, max_iter=512,\n",
      "                              max_leaf_nodes=4, min_samples_leaf=2,\n",
      "                              n_iter_no_change=0, random_state=1,\n",
      "                              validation_fraction=None, warm_start=True)}, 38: {'model_id': 38, 'rank': 5, 'cost': 0.8119108144019564, 'ensemble_weight': 0.02, 'data_preprocessor': <autosklearn.pipeline.components.data_preprocessing.DataPreprocessorChoice object at 0x135d57250>, 'feature_preprocessor': <autosklearn.pipeline.components.feature_preprocessing.FeaturePreprocessorChoice object at 0x135d9b3d0>, 'regressor': <autosklearn.pipeline.components.regression.RegressorChoice object at 0x134855410>, 'sklearn_regressor': HistGradientBoostingRegressor(l2_regularization=0.002133952320913403,\n",
      "                              learning_rate=0.1172202291996212, max_iter=512,\n",
      "                              max_leaf_nodes=24, min_samples_leaf=6,\n",
      "                              n_iter_no_change=0, random_state=1,\n",
      "                              validation_fraction=None, warm_start=True)}}\n",
      "Train R2 score: 0.7822070384016988\n",
      "Test R2 score: 0.6572984445855483\n"
     ]
    }
   ],
   "source": [
    "# Load dataset\n",
    "dataset = pd.read_csv('df_model.csv', index_col=None)\n",
    "dataset.columns = [\"Airline\", \"Top/Base\", \"Category\", \"Country\", \"Income\", \"Index\", \"y\"]\n",
    "\n",
    "# Remove rows with NaN values\n",
    "dataset = dataset.dropna()\n",
    "\n",
    "# Drop features\n",
    "dataset = dataset.drop(['Airline', 'Country'], axis=1)\n",
    "\n",
    "# Split dataset into features and target variable\n",
    "X = dataset.drop('y', axis=1)\n",
    "y = dataset['y']\n",
    "\n",
    "# Perform one-hot encoding\n",
    "X_encoded = pd.get_dummies(X, columns=['Top/Base', 'Category'])\n",
    "\n",
    "# Normalize data\n",
    "scaler = StandardScaler()\n",
    "columns_to_scale = ['Income', 'Index']\n",
    "X_encoded[columns_to_scale] = scaler.fit_transform(X_encoded[columns_to_scale])\n",
    "\n",
    "# Split data into train and test sets\n",
    "\n",
    "# X_train, X_test, y_train, y_test = sklearn.model_selection.train_test_split(\n",
    "#     X_encoded, y, random_state=1\n",
    "# )\n",
    "X_train,X_test,y_train,y_test = train_test_split(X_encoded,y,test_size=0.2, random_state=42)\n",
    "\n",
    "# Create and fit auto-sklearn regressor\n",
    "automl = autosklearn.regression.AutoSklearnRegressor(time_left_for_this_task=60, n_jobs=-1, memory_limit=-1)\n",
    "automl.fit(X_train, y_train)\n",
    "\n",
    "# Get the Score of the final ensemble\n",
    "train_predictions = automl.predict(X_train)\n",
    "print(\"Train R2 score:\", sklearn.metrics.r2_score(y_train, train_predictions))\n",
    "\n",
    "test_predictions = automl.predict(X_test)\n",
    "print(\"Test R2 score:\", sklearn.metrics.r2_score(y_test, test_predictions))"
   ]
  },
  {
   "cell_type": "code",
   "execution_count": 44,
   "metadata": {},
   "outputs": [
    {
     "data": {
      "text/html": [
       "<div>\n",
       "<style scoped>\n",
       "    .dataframe tbody tr th:only-of-type {\n",
       "        vertical-align: middle;\n",
       "    }\n",
       "\n",
       "    .dataframe tbody tr th {\n",
       "        vertical-align: top;\n",
       "    }\n",
       "\n",
       "    .dataframe thead th {\n",
       "        text-align: right;\n",
       "    }\n",
       "</style>\n",
       "<table border=\"1\" class=\"dataframe\">\n",
       "  <thead>\n",
       "    <tr style=\"text-align: right;\">\n",
       "      <th></th>\n",
       "      <th>rank</th>\n",
       "      <th>ensemble_weight</th>\n",
       "      <th>type</th>\n",
       "      <th>cost</th>\n",
       "      <th>duration</th>\n",
       "    </tr>\n",
       "    <tr>\n",
       "      <th>model_id</th>\n",
       "      <th></th>\n",
       "      <th></th>\n",
       "      <th></th>\n",
       "      <th></th>\n",
       "      <th></th>\n",
       "    </tr>\n",
       "  </thead>\n",
       "  <tbody>\n",
       "    <tr>\n",
       "      <th>25</th>\n",
       "      <td>1</td>\n",
       "      <td>0.40</td>\n",
       "      <td>gradient_boosting</td>\n",
       "      <td>0.607743</td>\n",
       "      <td>1.379264</td>\n",
       "    </tr>\n",
       "    <tr>\n",
       "      <th>24</th>\n",
       "      <td>2</td>\n",
       "      <td>0.02</td>\n",
       "      <td>liblinear_svr</td>\n",
       "      <td>0.656770</td>\n",
       "      <td>0.976027</td>\n",
       "    </tr>\n",
       "    <tr>\n",
       "      <th>13</th>\n",
       "      <td>3</td>\n",
       "      <td>0.30</td>\n",
       "      <td>gradient_boosting</td>\n",
       "      <td>0.685369</td>\n",
       "      <td>4.282578</td>\n",
       "    </tr>\n",
       "    <tr>\n",
       "      <th>38</th>\n",
       "      <td>4</td>\n",
       "      <td>0.02</td>\n",
       "      <td>gradient_boosting</td>\n",
       "      <td>0.811911</td>\n",
       "      <td>2.479671</td>\n",
       "    </tr>\n",
       "    <tr>\n",
       "      <th>12</th>\n",
       "      <td>5</td>\n",
       "      <td>0.26</td>\n",
       "      <td>liblinear_svr</td>\n",
       "      <td>0.944422</td>\n",
       "      <td>1.155691</td>\n",
       "    </tr>\n",
       "  </tbody>\n",
       "</table>\n",
       "</div>"
      ],
      "text/plain": [
       "          rank  ensemble_weight               type      cost  duration\n",
       "model_id                                                              \n",
       "25           1             0.40  gradient_boosting  0.607743  1.379264\n",
       "24           2             0.02      liblinear_svr  0.656770  0.976027\n",
       "13           3             0.30  gradient_boosting  0.685369  4.282578\n",
       "38           4             0.02  gradient_boosting  0.811911  2.479671\n",
       "12           5             0.26      liblinear_svr  0.944422  1.155691"
      ]
     },
     "execution_count": 44,
     "metadata": {},
     "output_type": "execute_result"
    }
   ],
   "source": [
    "automl.leaderboard()"
   ]
  },
  {
   "cell_type": "code",
   "execution_count": 45,
   "metadata": {},
   "outputs": [
    {
     "data": {
      "text/plain": [
       "{12: {'model_id': 12,\n",
       "  'rank': 1,\n",
       "  'cost': 0.9444215925368032,\n",
       "  'ensemble_weight': 0.26,\n",
       "  'data_preprocessor': <autosklearn.pipeline.components.data_preprocessing.DataPreprocessorChoice at 0x13517ab50>,\n",
       "  'feature_preprocessor': <autosklearn.pipeline.components.feature_preprocessing.FeaturePreprocessorChoice at 0x135222650>,\n",
       "  'regressor': <autosklearn.pipeline.components.regression.RegressorChoice at 0x135221290>,\n",
       "  'sklearn_regressor': LinearSVR(C=0.036388789196735646, dual=False, epsilon=0.0012739627397164333,\n",
       "            loss='squared_epsilon_insensitive', random_state=1,\n",
       "            tol=0.020180468804448126)},\n",
       " 13: {'model_id': 13,\n",
       "  'rank': 2,\n",
       "  'cost': 0.6853687181549932,\n",
       "  'ensemble_weight': 0.3,\n",
       "  'data_preprocessor': <autosklearn.pipeline.components.data_preprocessing.DataPreprocessorChoice at 0x135167e50>,\n",
       "  'feature_preprocessor': <autosklearn.pipeline.components.feature_preprocessing.FeaturePreprocessorChoice at 0x134d4cf10>,\n",
       "  'regressor': <autosklearn.pipeline.components.regression.RegressorChoice at 0x134d4c310>,\n",
       "  'sklearn_regressor': HistGradientBoostingRegressor(l2_regularization=0.0018018055158809108,\n",
       "                                learning_rate=0.05048450688348591, max_iter=512,\n",
       "                                max_leaf_nodes=3, min_samples_leaf=1,\n",
       "                                n_iter_no_change=19, random_state=1,\n",
       "                                validation_fraction=0.19819612428903174,\n",
       "                                warm_start=True)},\n",
       " 24: {'model_id': 24,\n",
       "  'rank': 3,\n",
       "  'cost': 0.6567702075382323,\n",
       "  'ensemble_weight': 0.02,\n",
       "  'data_preprocessor': <autosklearn.pipeline.components.data_preprocessing.DataPreprocessorChoice at 0x135117cd0>,\n",
       "  'feature_preprocessor': <autosklearn.pipeline.components.feature_preprocessing.FeaturePreprocessorChoice at 0x134d2c810>,\n",
       "  'regressor': <autosklearn.pipeline.components.regression.RegressorChoice at 0x135ea4050>,\n",
       "  'sklearn_regressor': LinearSVR(C=0.1637099972824213, dual=False, epsilon=0.5342957861386396,\n",
       "            loss='squared_epsilon_insensitive', random_state=1,\n",
       "            tol=0.00011557548242116838)},\n",
       " 25: {'model_id': 25,\n",
       "  'rank': 4,\n",
       "  'cost': 0.6077425230094907,\n",
       "  'ensemble_weight': 0.4,\n",
       "  'data_preprocessor': <autosklearn.pipeline.components.data_preprocessing.DataPreprocessorChoice at 0x135937a10>,\n",
       "  'feature_preprocessor': <autosklearn.pipeline.components.feature_preprocessing.FeaturePreprocessorChoice at 0x134eab510>,\n",
       "  'regressor': <autosklearn.pipeline.components.regression.RegressorChoice at 0x134ba5c10>,\n",
       "  'sklearn_regressor': HistGradientBoostingRegressor(l2_regularization=4.957506578736309e-07,\n",
       "                                learning_rate=0.05200721900508807, max_iter=512,\n",
       "                                max_leaf_nodes=4, min_samples_leaf=2,\n",
       "                                n_iter_no_change=0, random_state=1,\n",
       "                                validation_fraction=None, warm_start=True)},\n",
       " 38: {'model_id': 38,\n",
       "  'rank': 5,\n",
       "  'cost': 0.8119108144019564,\n",
       "  'ensemble_weight': 0.02,\n",
       "  'data_preprocessor': <autosklearn.pipeline.components.data_preprocessing.DataPreprocessorChoice at 0x135d57250>,\n",
       "  'feature_preprocessor': <autosklearn.pipeline.components.feature_preprocessing.FeaturePreprocessorChoice at 0x135d9b3d0>,\n",
       "  'regressor': <autosklearn.pipeline.components.regression.RegressorChoice at 0x134855410>,\n",
       "  'sklearn_regressor': HistGradientBoostingRegressor(l2_regularization=0.002133952320913403,\n",
       "                                learning_rate=0.1172202291996212, max_iter=512,\n",
       "                                max_leaf_nodes=24, min_samples_leaf=6,\n",
       "                                n_iter_no_change=0, random_state=1,\n",
       "                                validation_fraction=None, warm_start=True)}}"
      ]
     },
     "execution_count": 45,
     "metadata": {},
     "output_type": "execute_result"
    }
   ],
   "source": [
    "automl.show_models()"
   ]
  },
  {
   "cell_type": "code",
   "execution_count": 49,
   "metadata": {},
   "outputs": [
    {
     "name": "stdout",
     "output_type": "stream",
     "text": [
      "Train R2 score: 0.7822070384016988\n"
     ]
    }
   ],
   "source": [
    "print(\"Train R2 score:\", sklearn.metrics.r2_score(y_train, train_predictions))"
   ]
  },
  {
   "cell_type": "code",
   "execution_count": 55,
   "metadata": {},
   "outputs": [
    {
     "data": {
      "image/png": "[encoded data removed]",
      "text/plain": [
       "<Figure size 640x480 with 1 Axes>"
      ]
     },
     "metadata": {},
     "output_type": "display_data"
    }
   ],
   "source": [
    "plt.scatter(train_predictions, y_train, label=\"Train samples\", c=\"#d95f02\")\n",
    "plt.scatter(test_predictions, y_test, label=\"Test samples\", c=\"#7570b3\")\n",
    "plt.xlabel(\"Predicted value\")\n",
    "plt.ylabel(\"True value\")\n",
    "plt.legend()\n",
    "plt.plot([30000, 300000], [30000, 300000], c=\"k\", zorder=0)\n",
    "plt.xlim([30000, 300000])\n",
    "plt.ylim([30000, 300000])\n",
    "plt.tight_layout()\n",
    "plt.show()"
   ]
  },
  {
   "attachments": {},
   "cell_type": "markdown",
   "metadata": {},
   "source": [
    "# Save the model"
   ]
  },
  {
   "cell_type": "code",
   "execution_count": 56,
   "metadata": {},
   "outputs": [],
   "source": [
    "# Save the best model\n",
    "with open('best_model.pkl', 'wb') as f:\n",
    "    pickle.dump(automl, f)"
   ]
  },
  {
   "attachments": {},
   "cell_type": "markdown",
   "metadata": {},
   "source": [
    "# Predict"
   ]
  },
  {
   "cell_type": "code",
   "execution_count": null,
   "metadata": {},
   "outputs": [],
   "source": [
    "# Load the saved model\n",
    "with open('best_model.pkl', 'rb') as f:\n",
    "    loaded_model = pickle.load(f)\n",
    "\n",
    "# Use the loaded model for predictions\n",
    "y_prod = loaded_model.predict(X_prod)\n"
   ]
  },
  {
   "attachments": {},
   "cell_type": "markdown",
   "metadata": {},
   "source": [
    "# Compare it"
   ]
  },
  {
   "cell_type": "code",
   "execution_count": 57,
   "metadata": {},
   "outputs": [
    {
     "name": "stdout",
     "output_type": "stream",
     "text": [
      "[WARNING] [2023-03-16 16:04:46,501:Client-AutoML(1):e39c45b2-c40b-11ed-af40-aae9fe84c640] Time limit for a single run is higher than total time limit. Capping the limit for a single run to the total time given to SMAC (59.671666)\n",
      "[WARNING] [2023-03-16 16:04:46,501:Client-AutoML(1):e39c45b2-c40b-11ed-af40-aae9fe84c640] Capping the per_run_time_limit to 29.0 to have time for a least 2 models in each process.\n",
      "AutoSklearnRegressor Train R2 score: 0.8299519623415381\n",
      "AutoSklearnRegressor Test R2 score: 0.6970614961630857\n",
      "RandomForestRegressor Train R2 score: 0.8473405423240427\n",
      "RandomForestRegressor Test R2 score: -0.046788217393868736\n"
     ]
    }
   ],
   "source": [
    "import numpy as np\n",
    "import pandas as pd\n",
    "from sklearn.model_selection import train_test_split\n",
    "from sklearn.preprocessing import StandardScaler\n",
    "from sklearn.preprocessing import OneHotEncoder\n",
    "import sklearn.metrics\n",
    "import autosklearn.regression\n",
    "from sklearn.ensemble import RandomForestRegressor\n",
    "\n",
    "# Load dataset\n",
    "dataset = pd.read_csv('df_model.csv', index_col=None)\n",
    "dataset.columns = [\"Airline\", \"Top/Base\", \"Category\", \"Country\", \"Income\", \"Index\", \"y\"]\n",
    "\n",
    "# Remove rows with NaN values\n",
    "dataset = dataset.dropna()\n",
    "\n",
    "# Drop features\n",
    "dataset = dataset.drop(['Airline', 'Country'], axis=1)\n",
    "\n",
    "# Split dataset into features and target variable\n",
    "X = dataset.drop('y', axis=1)\n",
    "y = dataset['y']\n",
    "\n",
    "# Perform one-hot encoding\n",
    "X_encoded = pd.get_dummies(X, columns=['Top/Base', 'Category'])\n",
    "\n",
    "# Normalize data\n",
    "scaler = StandardScaler()\n",
    "columns_to_scale = ['Income', 'Index']\n",
    "X_encoded[columns_to_scale] = scaler.fit_transform(X_encoded[columns_to_scale])\n",
    "\n",
    "# Split data into train and test sets\n",
    "X_train,X_test,y_train,y_test = train_test_split(X_encoded,y,test_size=0.2, random_state=42)\n",
    "\n",
    "# Create and fit auto-sklearn regressor\n",
    "automl = autosklearn.regression.AutoSklearnRegressor(time_left_for_this_task=60, n_jobs=-1, memory_limit=-1)\n",
    "automl.fit(X_train, y_train)\n",
    "\n",
    "# Create and fit RandomForestRegressor model\n",
    "random_forest = RandomForestRegressor(n_estimators=100, random_state=42)\n",
    "random_forest.fit(X_train, y_train)\n",
    "\n",
    "# Get the Score of the final ensemble (AutoSklearnRegressor)\n",
    "train_predictions = automl.predict(X_train)\n",
    "test_predictions = automl.predict(X_test)\n",
    "print(\"AutoSklearnRegressor Train R2 score:\", sklearn.metrics.r2_score(y_train, train_predictions))\n",
    "print(\"AutoSklearnRegressor Test R2 score:\", sklearn.metrics.r2_score(y_test, test_predictions))\n",
    "\n",
    "# Get the Score of the RandomForestRegressor model\n",
    "rf_train_predictions = random_forest.predict(X_train)\n",
    "rf_test_predictions = random_forest.predict(X_test)\n",
    "print(\"RandomForestRegressor Train R2 score:\", sklearn.metrics.r2_score(y_train, rf_train_predictions))\n",
    "print(\"RandomForestRegressor Test R2 score:\", sklearn.metrics.r2_score(y_test, rf_test_predictions))\n"
   ]
  },
  {
   "cell_type": "code",
   "execution_count": null,
   "metadata": {},
   "outputs": [],
   "source": []
  }
 ],
 "metadata": {
  "kernelspec": {
   "display_name": "Python 3",
   "language": "python",
   "name": "python3"
  },
  "language_info": {
   "codemirror_mode": {
    "name": "ipython",
    "version": 3
   },
   "file_extension": ".py",
   "mimetype": "text/x-python",
   "name": "python",
   "nbconvert_exporter": "python",
   "pygments_lexer": "ipython3",
   "version": "3.11.2"
  },
  "orig_nbformat": 4
 },
 "nbformat": 4,
 "nbformat_minor": 2
}
